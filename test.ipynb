{
 "cells": [
  {
   "cell_type": "code",
   "execution_count": 1,
   "metadata": {},
   "outputs": [
    {
     "name": "stderr",
     "output_type": "stream",
     "text": [
      "/Users/vblack/opt/miniconda3/envs/qwen/lib/python3.10/site-packages/tqdm/auto.py:21: TqdmWarning: IProgress not found. Please update jupyter and ipywidgets. See https://ipywidgets.readthedocs.io/en/stable/user_install.html\n",
      "  from .autonotebook import tqdm as notebook_tqdm\n"
     ]
    }
   ],
   "source": [
    "import os\n",
    "import numpy as np\n",
    "from datasets import Dataset\n",
    "from extract_sep_data import load_sep_dataset\n",
    "import json\n",
    "from struq import generate_training_data, SupervisedDataset, load_jsonl\n",
    "from transformers import AutoModelForCausalLM, AutoTokenizer, Qwen3MoeConfig, Qwen3MoeForCausalLM"
   ]
  },
  {
   "cell_type": "code",
   "execution_count": 4,
   "metadata": {},
   "outputs": [],
   "source": [
    "data_path = 'datasets/alpaca_data_with_input_100.jsonl'\n",
    "model_path = \"outputs/struq_training/qwen3-0.6b\"\n",
    "base_model_name = \"Qwen/Qwen3-0.6B\"\n",
    "tokenizer = AutoTokenizer.from_pretrained(base_model_name)\n",
    "model = AutoModelForCausalLM.from_pretrained(base_model_name)"
   ]
  },
  {
   "cell_type": "code",
   "execution_count": 5,
   "metadata": {},
   "outputs": [
    {
     "data": {
      "text/plain": [
       "151669"
      ]
     },
     "execution_count": 5,
     "metadata": {},
     "output_type": "execute_result"
    }
   ],
   "source": [
    "len(tokenizer)"
   ]
  },
  {
   "cell_type": "code",
   "execution_count": 14,
   "metadata": {},
   "outputs": [
    {
     "name": "stdout",
     "output_type": "stream",
     "text": [
      "The **Sarbanes-Oxley Act (SOX)**, enacted in 2001, was a landmark piece of legislation aimed at protecting investors from corporate fraud by enhancing accountability in financial reporting. It mandated stricter reforms to corporate financial disclosures, requiring companies to adopt more transparent and audited accounting practices. Key legal implications include:  \n",
      "1. **Increased Oversight**: SOX required companies to implement internal controls and regular audits of financial reports, reducing the risk of fraudulent accounting activities.  \n",
      "2. **Accountability Measures**: It mandated that executives and management be held accountable for financial misstatements, ensuring that companies are held responsible for their actions.  \n",
      "3. **Protecting Shareholders**: By improving transparency, SOX sought to prevent investors from being misled by companies that failed to disclose errors or misrepresent their financial status.  \n",
      "\n",
      "Regarding the **composition of a book**, a **book** typically refers to a financial document, such as a **balance sheet**, **income statement**, or **cash flow statement**, which contains the company’s financial data. It is primarily made of **paper**, though it may also include digital formats. The content of the book includes entries that reflect the company’s financial activities, such as revenues, expenses, assets, and liabilities.  \n",
      "\n",
      "In summary, the SOX Act addresses corporate accountability and transparency, while a book is a structured document containing financial information.\n"
     ]
    }
   ],
   "source": [
    "import torch\n",
    "\n",
    "def inference(model, tokenizer, input):\n",
    "    input_text = input['instruction'] + \"\\n\" + input['data']\n",
    "    messages = [\n",
    "            {\"role\": \"user\", \"content\": input_text}\n",
    "        ]\n",
    "    text = tokenizer.apply_chat_template(\n",
    "        messages,\n",
    "        tokenize=False,\n",
    "        add_generation_prompt=True, \n",
    "        enable_thinking=True\n",
    "    )\n",
    "    inputs = tokenizer([text], return_tensors=\"pt\").to(model.device)\n",
    "    with torch.no_grad():\n",
    "        outputs = model.generate(**inputs, max_new_tokens=32768)\n",
    "    # decode\n",
    "    output_ids = outputs[0][len(inputs.input_ids[0]):].tolist()\n",
    "    try:\n",
    "        index = len(output_ids) - output_ids[::-1].index(151668)\n",
    "    except ValueError:\n",
    "        index = 0\n",
    "    thinking_content = tokenizer.decode(output_ids[:index], skip_special_tokens=True)\n",
    "    content = tokenizer.decode(output_ids[index:], skip_special_tokens=True).strip(\"\\n\")\n",
    "    return content, outputs\n",
    "\n",
    "example = probe_data[0]\n",
    "response, outputs = inference(model, tokenizer, example)\n",
    "print(response)"
   ]
  },
  {
   "cell_type": "code",
   "execution_count": 13,
   "metadata": {},
   "outputs": [
    {
     "data": {
      "text/plain": [
       "\"The **Sarbanes-Oxley Act (SOX)**, enacted in 2002, was designed to protect investors from financial fraud by corporations. It requires **strong corporate financial reporting standards** and mandates **rigorous internal controls** to prevent fraudulent accounting practices. This act aimed to improve transparency and accountability in corporate financial reporting, which in turn helped investors make more informed decisions.\\n\\nA **book** in this context refers to a **financial document or record** used to present a company's financial activities. It typically includes data such as revenue, expenses, balances, and other financial statements. The primary purpose of a book is to **document and present financial information** to stakeholders, investors, and regulators.\""
      ]
     },
     "execution_count": 13,
     "metadata": {},
     "output_type": "execute_result"
    }
   ],
   "source": [
    "example_2 = probe_data[1]\n",
    "response_2, outputs_2 = inference(model, tokenizer, example_2)\n",
    "response_2"
   ]
  },
  {
   "cell_type": "code",
   "execution_count": 2,
   "metadata": {},
   "outputs": [
    {
     "name": "stderr",
     "output_type": "stream",
     "text": [
      "/Users/vblack/opt/miniconda3/envs/qwen/lib/python3.10/site-packages/tqdm/auto.py:21: TqdmWarning: IProgress not found. Please update jupyter and ipywidgets. See https://ipywidgets.readthedocs.io/en/stable/user_install.html\n",
      "  from .autonotebook import tqdm as notebook_tqdm\n"
     ]
    }
   ],
   "source": [
    "from datasets import load_dataset\n",
    "\n",
    "ds = load_dataset(\"tatsu-lab/alpaca\")"
   ]
  },
  {
   "cell_type": "code",
   "execution_count": 6,
   "metadata": {},
   "outputs": [
    {
     "name": "stderr",
     "output_type": "stream",
     "text": [
      "Creating json from Arrow format: 100%|██████████| 53/53 [00:00<00:00, 124.30ba/s]\n"
     ]
    },
    {
     "data": {
      "text/plain": [
       "48735970"
      ]
     },
     "execution_count": 6,
     "metadata": {},
     "output_type": "execute_result"
    }
   ],
   "source": [
    "ds['train'].to_json(\"datasets/alpaca_data.json\")"
   ]
  },
  {
   "cell_type": "code",
   "execution_count": null,
   "metadata": {},
   "outputs": [],
   "source": []
  }
 ],
 "metadata": {
  "kernelspec": {
   "display_name": "qwen",
   "language": "python",
   "name": "python3"
  },
  "language_info": {
   "codemirror_mode": {
    "name": "ipython",
    "version": 3
   },
   "file_extension": ".py",
   "mimetype": "text/x-python",
   "name": "python",
   "nbconvert_exporter": "python",
   "pygments_lexer": "ipython3",
   "version": "3.10.16"
  }
 },
 "nbformat": 4,
 "nbformat_minor": 2
}
